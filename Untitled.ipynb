{
 "cells": [
  {
   "cell_type": "markdown",
   "id": "5cdf7844-3978-4188-a09d-2eeb20a474fd",
   "metadata": {},
   "source": [
    "# 🏦 Bank App Project\n",
    "\n",
    "This is a simple command-line Bank Application built using Python.  \n",
    "It allows users to:\n",
    "- Create new accounts\n",
    "- Deposit money\n",
    "- Withdraw money\n",
    "- Check account balance\n",
    "\n",
    "## 📌 Features:\n",
    "- Menu-driven interface\n",
    "- Balance check\n",
    "- Withdraw/Deposit logic\n",
    "- Error handling for insufficient balance\n",
    "\n",
    "## 🛠️ Tech Used:\n",
    "- Python\n",
    "\n",
    "## 🚀 How to Run:\n",
    "1. Install Python (if not installed)\n",
    "2. Run the code:\n",
    "```bash\n",
    "python bank_app.py\n"
   ]
  }
 ],
 "metadata": {
  "kernelspec": {
   "display_name": "Python [conda env:base] *",
   "language": "python",
   "name": "conda-base-py"
  },
  "language_info": {
   "codemirror_mode": {
    "name": "ipython",
    "version": 3
   },
   "file_extension": ".py",
   "mimetype": "text/x-python",
   "name": "python",
   "nbconvert_exporter": "python",
   "pygments_lexer": "ipython3",
   "version": "3.12.7"
  }
 },
 "nbformat": 4,
 "nbformat_minor": 5
}
